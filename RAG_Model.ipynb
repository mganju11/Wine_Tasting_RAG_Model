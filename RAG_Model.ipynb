{
 "cells": [
  {
   "cell_type": "markdown",
   "metadata": {},
   "source": [
    "# Set Up"
   ]
  },
  {
   "cell_type": "code",
   "execution_count": 2,
   "metadata": {},
   "outputs": [],
   "source": [
    "#Imports \n",
    "import pandas as pd\n",
    "import os\n",
    "import openai\n",
    "import sys\n",
    "sys.path.append('../..')\n",
    "\n",
    "from dotenv import load_dotenv, find_dotenv\n",
    "_ = load_dotenv(find_dotenv()) # read local .env file"
   ]
  },
  {
   "cell_type": "markdown",
   "metadata": {},
   "source": [
    "## Data Loading"
   ]
  },
  {
   "cell_type": "code",
   "execution_count": 3,
   "metadata": {},
   "outputs": [],
   "source": [
    "wine_df = pd.read_csv(\"C:/Users/MehakGanju/Documents/Repositories/Personal/Wine Tasting RAG Model/Wine_Tasting_RAG_Model/data/winemag-data-130k-v2.csv\")"
   ]
  },
  {
   "cell_type": "code",
   "execution_count": 4,
   "metadata": {},
   "outputs": [],
   "source": [
    "from langchain.document_loaders import CSVLoader\n",
    "\n",
    "loader = CSVLoader(file_path=\"C:/Users/MehakGanju/Documents/Repositories/Personal/Wine Tasting RAG Model/Wine_Tasting_RAG_Model/data/winemag-data-130k-v2.csv\", encoding='utf8')\n",
    "\n",
    "data = loader.load()\n"
   ]
  },
  {
   "cell_type": "code",
   "execution_count": 5,
   "metadata": {},
   "outputs": [
    {
     "data": {
      "text/plain": [
       "Index(['id', 'country', 'description', 'designation', 'points', 'price',\n",
       "       'province', 'region_1', 'region_2', 'taster_name',\n",
       "       'taster_twitter_handle', 'title', 'variety', 'winery'],\n",
       "      dtype='object')"
      ]
     },
     "execution_count": 5,
     "metadata": {},
     "output_type": "execute_result"
    }
   ],
   "source": [
    "wine_df.columns"
   ]
  },
  {
   "cell_type": "markdown",
   "metadata": {},
   "source": [
    "## Text Splitting"
   ]
  },
  {
   "cell_type": "code",
   "execution_count": 6,
   "metadata": {},
   "outputs": [],
   "source": [
    "from langchain.text_splitter import RecursiveCharacterTextSplitter\n",
    "text_splitter = RecursiveCharacterTextSplitter(\n",
    "    chunk_size = 200,\n",
    "    chunk_overlap = 15\n",
    ")\n",
    "splits = text_splitter.split_documents(data)"
   ]
  },
  {
   "cell_type": "code",
   "execution_count": 7,
   "metadata": {},
   "outputs": [
    {
     "data": {
      "text/plain": [
       "614977"
      ]
     },
     "execution_count": 7,
     "metadata": {},
     "output_type": "execute_result"
    }
   ],
   "source": [
    "len(splits)"
   ]
  },
  {
   "cell_type": "code",
   "execution_count": 8,
   "metadata": {},
   "outputs": [],
   "source": [
    "split1 = splits[0:100000]"
   ]
  },
  {
   "cell_type": "markdown",
   "metadata": {},
   "source": [
    "## Embeddings and Vector Store"
   ]
  },
  {
   "cell_type": "code",
   "execution_count": 9,
   "metadata": {},
   "outputs": [],
   "source": [
    "from langchain.embeddings import HuggingFaceEmbeddings\n",
    "embedding = HuggingFaceEmbeddings(model_name=\"sentence-transformers/paraphrase-multilingual-MiniLM-L12-v2\")"
   ]
  },
  {
   "cell_type": "code",
   "execution_count": 10,
   "metadata": {},
   "outputs": [],
   "source": [
    "from langchain.vectorstores import FAISS\n",
    "vectordbR = FAISS.from_documents(split1, embedding)"
   ]
  },
  {
   "cell_type": "code",
   "execution_count": null,
   "metadata": {},
   "outputs": [],
   "source": [
    "from langchain.vectorstores import FAISS\n",
    "vectordbR = FAISS.from_documents(splits, embedding)"
   ]
  },
  {
   "cell_type": "markdown",
   "metadata": {},
   "source": [
    "## Retrieval "
   ]
  },
  {
   "cell_type": "markdown",
   "metadata": {},
   "source": [
    "### Similarity Search"
   ]
  },
  {
   "cell_type": "code",
   "execution_count": 12,
   "metadata": {},
   "outputs": [
    {
     "data": {
      "text/plain": [
       "[{'source': 'C:/Users/MehakGanju/Documents/Repositories/Personal/Wine Tasting RAG Model/Wine_Tasting_RAG_Model/data/winemag-data-130k-v2.csv',\n",
       "  'row': 14076},\n",
       " {'source': 'C:/Users/MehakGanju/Documents/Repositories/Personal/Wine Tasting RAG Model/Wine_Tasting_RAG_Model/data/winemag-data-130k-v2.csv',\n",
       "  'row': 19456},\n",
       " {'source': 'C:/Users/MehakGanju/Documents/Repositories/Personal/Wine Tasting RAG Model/Wine_Tasting_RAG_Model/data/winemag-data-130k-v2.csv',\n",
       "  'row': 11602},\n",
       " {'source': 'C:/Users/MehakGanju/Documents/Repositories/Personal/Wine Tasting RAG Model/Wine_Tasting_RAG_Model/data/winemag-data-130k-v2.csv',\n",
       "  'row': 10481},\n",
       " {'source': 'C:/Users/MehakGanju/Documents/Repositories/Personal/Wine Tasting RAG Model/Wine_Tasting_RAG_Model/data/winemag-data-130k-v2.csv',\n",
       "  'row': 16223}]"
      ]
     },
     "execution_count": 12,
     "metadata": {},
     "output_type": "execute_result"
    }
   ],
   "source": [
    "question = \"What are some prices of Rose's around the world?\"\n",
    "docs = vectordbR.similarity_search(question,k=5)\n",
    "list(map(lambda x: x.metadata, docs))"
   ]
  },
  {
   "cell_type": "code",
   "execution_count": 17,
   "metadata": {},
   "outputs": [
    {
     "data": {
      "text/plain": [
       "[Document(page_content='id: 14076\\ncountry: US\\ndescription: Pretty dark for a rosé, and heavy in the mouth, with the density almost of a red wine. Shows soft cherry and spice flavors.\\ndesignation: Rosato\\npoints: 82\\nprice: 18', metadata={'source': 'C:/Users/MehakGanju/Documents/Repositories/Personal/Wine Tasting RAG Model/Wine_Tasting_RAG_Model/data/winemag-data-130k-v2.csv', 'row': 14076}),\n",
       " Document(page_content=\"designation: \\npoints: 86\\nprice: 12\\nprovince: Languedoc-Roussillon\\nregion_1: Pays d'Oc\\nregion_2: \\ntaster_name: Lauren Buzzeo\\ntaster_twitter_handle: @laurbuzz\\ntitle: Le Grand Noir 2016 Rosé (Pays d'Oc)\", metadata={'source': 'C:/Users/MehakGanju/Documents/Repositories/Personal/Wine Tasting RAG Model/Wine_Tasting_RAG_Model/data/winemag-data-130k-v2.csv', 'row': 7470}),\n",
       " Document(page_content=\"description: The popularity of rosé has lead to higher prices in Tavel, but this estate, one of the region's largest, has kept those increases in check. Thankfully, the wine quality seems as good as\", metadata={'source': 'C:/Users/MehakGanju/Documents/Repositories/Personal/Wine Tasting RAG Model/Wine_Tasting_RAG_Model/data/winemag-data-130k-v2.csv', 'row': 10481}),\n",
       " Document(page_content=\"description: There's been no price increase for this outstanding value, but the quality keeps going up and up. It's packed with juicy red berry and cassis fruit—supple, tangy, deep and lingering. The\", metadata={'source': 'C:/Users/MehakGanju/Documents/Repositories/Personal/Wine Tasting RAG Model/Wine_Tasting_RAG_Model/data/winemag-data-130k-v2.csv', 'row': 5059}),\n",
       " Document(page_content=\"description: Yalumba has been working hard at this style of rosé, and the 2012 is very successful. It's medium in weight, with pretty red-fruit aromas and flavors of watermelon and strawberry. An\", metadata={'source': 'C:/Users/MehakGanju/Documents/Repositories/Personal/Wine Tasting RAG Model/Wine_Tasting_RAG_Model/data/winemag-data-130k-v2.csv', 'row': 11827})]"
      ]
     },
     "execution_count": 17,
     "metadata": {},
     "output_type": "execute_result"
    }
   ],
   "source": [
    "docs"
   ]
  },
  {
   "cell_type": "markdown",
   "metadata": {},
   "source": [
    "### Max Marginal Relevance Search"
   ]
  },
  {
   "cell_type": "code",
   "execution_count": 15,
   "metadata": {},
   "outputs": [
    {
     "data": {
      "text/plain": [
       "[{'source': 'C:/Users/MehakGanju/Documents/Repositories/Personal/Wine Tasting RAG Model/Wine_Tasting_RAG_Model/data/winemag-data-130k-v2.csv',\n",
       "  'row': 14076},\n",
       " {'source': 'C:/Users/MehakGanju/Documents/Repositories/Personal/Wine Tasting RAG Model/Wine_Tasting_RAG_Model/data/winemag-data-130k-v2.csv',\n",
       "  'row': 7470},\n",
       " {'source': 'C:/Users/MehakGanju/Documents/Repositories/Personal/Wine Tasting RAG Model/Wine_Tasting_RAG_Model/data/winemag-data-130k-v2.csv',\n",
       "  'row': 10481},\n",
       " {'source': 'C:/Users/MehakGanju/Documents/Repositories/Personal/Wine Tasting RAG Model/Wine_Tasting_RAG_Model/data/winemag-data-130k-v2.csv',\n",
       "  'row': 5059},\n",
       " {'source': 'C:/Users/MehakGanju/Documents/Repositories/Personal/Wine Tasting RAG Model/Wine_Tasting_RAG_Model/data/winemag-data-130k-v2.csv',\n",
       "  'row': 11827}]"
      ]
     },
     "execution_count": 15,
     "metadata": {},
     "output_type": "execute_result"
    }
   ],
   "source": [
    "question = \"What are some prices of Rose's around the world?\"\n",
    "docs = vectordbR.max_marginal_relevance_search(question,k=5)\n",
    "list(map(lambda x: x.metadata, docs))"
   ]
  },
  {
   "cell_type": "code",
   "execution_count": 16,
   "metadata": {},
   "outputs": [
    {
     "data": {
      "text/plain": [
       "[Document(page_content='id: 14076\\ncountry: US\\ndescription: Pretty dark for a rosé, and heavy in the mouth, with the density almost of a red wine. Shows soft cherry and spice flavors.\\ndesignation: Rosato\\npoints: 82\\nprice: 18', metadata={'source': 'C:/Users/MehakGanju/Documents/Repositories/Personal/Wine Tasting RAG Model/Wine_Tasting_RAG_Model/data/winemag-data-130k-v2.csv', 'row': 14076}),\n",
       " Document(page_content=\"designation: \\npoints: 86\\nprice: 12\\nprovince: Languedoc-Roussillon\\nregion_1: Pays d'Oc\\nregion_2: \\ntaster_name: Lauren Buzzeo\\ntaster_twitter_handle: @laurbuzz\\ntitle: Le Grand Noir 2016 Rosé (Pays d'Oc)\", metadata={'source': 'C:/Users/MehakGanju/Documents/Repositories/Personal/Wine Tasting RAG Model/Wine_Tasting_RAG_Model/data/winemag-data-130k-v2.csv', 'row': 7470}),\n",
       " Document(page_content=\"description: The popularity of rosé has lead to higher prices in Tavel, but this estate, one of the region's largest, has kept those increases in check. Thankfully, the wine quality seems as good as\", metadata={'source': 'C:/Users/MehakGanju/Documents/Repositories/Personal/Wine Tasting RAG Model/Wine_Tasting_RAG_Model/data/winemag-data-130k-v2.csv', 'row': 10481}),\n",
       " Document(page_content=\"description: There's been no price increase for this outstanding value, but the quality keeps going up and up. It's packed with juicy red berry and cassis fruit—supple, tangy, deep and lingering. The\", metadata={'source': 'C:/Users/MehakGanju/Documents/Repositories/Personal/Wine Tasting RAG Model/Wine_Tasting_RAG_Model/data/winemag-data-130k-v2.csv', 'row': 5059}),\n",
       " Document(page_content=\"description: Yalumba has been working hard at this style of rosé, and the 2012 is very successful. It's medium in weight, with pretty red-fruit aromas and flavors of watermelon and strawberry. An\", metadata={'source': 'C:/Users/MehakGanju/Documents/Repositories/Personal/Wine Tasting RAG Model/Wine_Tasting_RAG_Model/data/winemag-data-130k-v2.csv', 'row': 11827})]"
      ]
     },
     "execution_count": 16,
     "metadata": {},
     "output_type": "execute_result"
    }
   ],
   "source": [
    "docs"
   ]
  },
  {
   "cell_type": "markdown",
   "metadata": {},
   "source": [
    "### Hybrid Search"
   ]
  },
  {
   "cell_type": "code",
   "execution_count": 20,
   "metadata": {},
   "outputs": [],
   "source": [
    "from langchain.retrievers import BM25Retriever, EnsembleRetriever\n",
    "retriever_vectordb = vectordbR.as_retriever(search_kwargs={\"k\": 5})\n",
    "keyword_retriever = BM25Retriever.from_documents(split1)\n",
    "keyword_retriever.k =  5\n",
    "ensemble_retriever = EnsembleRetriever(retrievers=[retriever_vectordb,keyword_retriever],\n",
    "                                       weights=[0.5, 0.5])"
   ]
  },
  {
   "cell_type": "code",
   "execution_count": 22,
   "metadata": {},
   "outputs": [
    {
     "data": {
      "text/plain": [
       "[Document(page_content='description: What makes this Sangiovese and Cabernet Sauvignon blend stand out are its pristine balsam notes. Those beautifully pungent aromas are followed by exotic spice, black cherry, maple syrup', metadata={'source': 'C:/Users/MehakGanju/Documents/Repositories/Personal/Wine Tasting RAG Model/Wine_Tasting_RAG_Model/data/winemag-data-130k-v2.csv', 'row': 13448}),\n",
       " Document(page_content='title: Boatique 2013 Malbec (Red Hills Lake County)\\nvariety: Malbec\\nwinery: Boatique', metadata={'source': 'C:/Users/MehakGanju/Documents/Repositories/Personal/Wine Tasting RAG Model/Wine_Tasting_RAG_Model/data/winemag-data-130k-v2.csv', 'row': 11915}),\n",
       " Document(page_content='title: Chacewater 2013 Malbec (Red Hills Lake County)\\nvariety: Malbec\\nwinery: Chacewater', metadata={'source': 'C:/Users/MehakGanju/Documents/Repositories/Personal/Wine Tasting RAG Model/Wine_Tasting_RAG_Model/data/winemag-data-130k-v2.csv', 'row': 14742}),\n",
       " Document(page_content='and with a long, spicy finish. What a great price.', metadata={'source': 'C:/Users/MehakGanju/Documents/Repositories/Personal/Wine Tasting RAG Model/Wine_Tasting_RAG_Model/data/winemag-data-130k-v2.csv', 'row': 10302}),\n",
       " Document(page_content='through to a lingering finish etched in minerals. What a terrific value!', metadata={'source': 'C:/Users/MehakGanju/Documents/Repositories/Personal/Wine Tasting RAG Model/Wine_Tasting_RAG_Model/data/winemag-data-130k-v2.csv', 'row': 11403}),\n",
       " Document(page_content='title: Colomé 2008 Reserva Malbec (Calchaquí Valley)\\nvariety: Malbec\\nwinery: Colomé', metadata={'source': 'C:/Users/MehakGanju/Documents/Repositories/Personal/Wine Tasting RAG Model/Wine_Tasting_RAG_Model/data/winemag-data-130k-v2.csv', 'row': 10108}),\n",
       " Document(page_content='but crisp acidity makes it balanced. What a great wine with coconut shrimp.', metadata={'source': 'C:/Users/MehakGanju/Documents/Repositories/Personal/Wine Tasting RAG Model/Wine_Tasting_RAG_Model/data/winemag-data-130k-v2.csv', 'row': 16801}),\n",
       " Document(page_content='title: àMaurice 2010 Gamache Vineyard Malbec (Columbia Valley (WA))\\nvariety: Malbec\\nwinery: àMaurice', metadata={'source': 'C:/Users/MehakGanju/Documents/Repositories/Personal/Wine Tasting RAG Model/Wine_Tasting_RAG_Model/data/winemag-data-130k-v2.csv', 'row': 2590}),\n",
       " Document(page_content='all the way though, and the most elegant silky texture. What a great job.', metadata={'source': 'C:/Users/MehakGanju/Documents/Repositories/Personal/Wine Tasting RAG Model/Wine_Tasting_RAG_Model/data/winemag-data-130k-v2.csv', 'row': 12013}),\n",
       " Document(page_content='title: High Note 2007 Elevated Malbec (Uco Valley)\\nvariety: Malbec\\nwinery: High Note', metadata={'source': 'C:/Users/MehakGanju/Documents/Repositories/Personal/Wine Tasting RAG Model/Wine_Tasting_RAG_Model/data/winemag-data-130k-v2.csv', 'row': 15754})]"
      ]
     },
     "execution_count": 22,
     "metadata": {},
     "output_type": "execute_result"
    }
   ],
   "source": [
    "query=\"What countires are Malbecs from?\"\n",
    "docs_rel=ensemble_retriever.get_relevant_documents(query)\n",
    "docs_rel"
   ]
  },
  {
   "cell_type": "markdown",
   "metadata": {},
   "source": [
    "## QA Chain"
   ]
  },
  {
   "cell_type": "code",
   "execution_count": 30,
   "metadata": {},
   "outputs": [],
   "source": [
    "# Setup GPT Key\n",
    "openai.api_key  = os.environ['OPENAI_API_KEY']"
   ]
  },
  {
   "cell_type": "code",
   "execution_count": 31,
   "metadata": {},
   "outputs": [
    {
     "name": "stdout",
     "output_type": "stream",
     "text": [
      "gpt-4\n"
     ]
    }
   ],
   "source": [
    "import datetime\n",
    "current_date = datetime.datetime.now().date()\n",
    "if current_date < datetime.date(2023, 9, 2):\n",
    "    llm_name = \"gpt-4\"\n",
    "else:\n",
    "    llm_name = \"gpt-4\"\n",
    "print(llm_name)"
   ]
  },
  {
   "cell_type": "code",
   "execution_count": 32,
   "metadata": {},
   "outputs": [
    {
     "data": {
      "text/plain": [
       "'Hello! How can I assist you today?'"
      ]
     },
     "execution_count": 32,
     "metadata": {},
     "output_type": "execute_result"
    }
   ],
   "source": [
    "from langchain.chat_models import ChatOpenAI\n",
    "llm = ChatOpenAI(model_name=llm_name, temperature=0)\n",
    "llm.predict(\"Hello world!\")"
   ]
  },
  {
   "cell_type": "markdown",
   "metadata": {},
   "source": [
    "#### QA Chain with No Hybrid Search"
   ]
  },
  {
   "cell_type": "code",
   "execution_count": 34,
   "metadata": {},
   "outputs": [],
   "source": [
    "# Build prompt\n",
    "from langchain.prompts import PromptTemplate\n",
    "template = \"\"\"Use the following pieces of context to answer the question at the end. If you don't know the answer, \n",
    "just say that you don't know, don't try to make up an answer. \n",
    "Use five sentences maximum. Keep the answer as concise as possible. \n",
    "Always say \"thanks for asking!\" at the end of the answer if you know it.\n",
    "If you do not know it end the answer with \"Is there something else you would like to ask?\" \n",
    "{context}\n",
    "Question: {question}\n",
    "Helpful Answer:\"\"\"\n",
    "QA_CHAIN_PROMPT = PromptTemplate(input_variables=[\"context\", \"question\"],template=template,)\n",
    "\n",
    "# Run chain\n",
    "from langchain.chains import RetrievalQA\n",
    "qa_chainR = RetrievalQA.from_chain_type(llm,\n",
    "                                       retriever=vectordbR.as_retriever(),\n",
    "                                       return_source_documents=True,\n",
    "                                       chain_type_kwargs={\"prompt\": QA_CHAIN_PROMPT})"
   ]
  },
  {
   "cell_type": "code",
   "execution_count": 35,
   "metadata": {},
   "outputs": [
    {
     "data": {
      "text/plain": [
       "\"A good white wine from Italy is the one from the largely unexplored wine region of Liguria in northern Italy. It's described as crisp and perky, offering easy aromas of citrus, apple and brimstone. Another recommendation is the satisfying white wine from Sardinia, which pairs well with shellfish, grilled vegetables, exotic spicy dishes or Italian kitchen classics. Thanks for asking!\""
      ]
     },
     "execution_count": 35,
     "metadata": {},
     "output_type": "execute_result"
    }
   ],
   "source": [
    "question = \"Give me a reccomendation for a good white wine from Italy\"\n",
    "result = qa_chainR({\"query\": question})\n",
    "result[\"result\"]"
   ]
  },
  {
   "cell_type": "code",
   "execution_count": 36,
   "metadata": {},
   "outputs": [
    {
     "data": {
      "text/plain": [
       "'The Malbecs mentioned are from the United States and France. Thanks for asking!'"
      ]
     },
     "execution_count": 36,
     "metadata": {},
     "output_type": "execute_result"
    }
   ],
   "source": [
    "question = \"What countries are Malbec's from?\"\n",
    "result = qa_chainR({\"query\": question})\n",
    "result[\"result\"]"
   ]
  },
  {
   "cell_type": "code",
   "execution_count": 42,
   "metadata": {},
   "outputs": [
    {
     "data": {
      "text/plain": [
       "'The price of the rosé from the USA is $18. The price of the rosé from France is not provided in the context given. Thanks for asking!'"
      ]
     },
     "execution_count": 42,
     "metadata": {},
     "output_type": "execute_result"
    }
   ],
   "source": [
    "question = \"Can you give me the price of a Rose from USA verses one from France\"\n",
    "result = qa_chainR({\"query\": question})\n",
    "result[\"result\"]"
   ]
  },
  {
   "cell_type": "markdown",
   "metadata": {},
   "source": [
    "#### QA Chain with Hybrid Search"
   ]
  },
  {
   "cell_type": "code",
   "execution_count": 44,
   "metadata": {},
   "outputs": [],
   "source": [
    "# Build prompt\n",
    "from langchain.prompts import PromptTemplate\n",
    "template = \"\"\"Use the following pieces of context to answer the question at the end. If you don't know the answer, \n",
    "just say that you don't know, don't try to make up an answer. \n",
    "Use five sentences maximum. Keep the answer as concise as possible. \n",
    "Always say \"thanks for asking!\" at the end of the answer if you know it.\n",
    "If you do not know it end the answer with \"Is there something else you would like to ask?\" \n",
    "{context}\n",
    "Question: {question}\n",
    "Helpful Answer:\"\"\"\n",
    "QA_CHAIN_PROMPT = PromptTemplate(input_variables=[\"context\", \"question\"],template=template,)\n",
    "\n",
    "# Run chain\n",
    "from langchain.chains import RetrievalQA\n",
    "qa_chainH = RetrievalQA.from_chain_type(llm,\n",
    "                                       retriever=ensemble_retriever,\n",
    "                                       return_source_documents=True,\n",
    "                                       chain_type_kwargs={\"prompt\": QA_CHAIN_PROMPT})"
   ]
  },
  {
   "cell_type": "code",
   "execution_count": 53,
   "metadata": {},
   "outputs": [
    {
     "data": {
      "text/plain": [
       "'The Malbecs mentioned in the context are from the US and France. Thanks for asking!'"
      ]
     },
     "execution_count": 53,
     "metadata": {},
     "output_type": "execute_result"
    }
   ],
   "source": [
    "question = \"What countries are Malbec's from?\"\n",
    "result = qa_chainH({\"query\": question})\n",
    "result[\"result\"]"
   ]
  },
  {
   "cell_type": "code",
   "execution_count": 51,
   "metadata": {},
   "outputs": [
    {
     "data": {
      "text/plain": [
       "'The prices of the Pinot Noir wines listed range from $12 to $25. Thanks for asking!'"
      ]
     },
     "execution_count": 51,
     "metadata": {},
     "output_type": "execute_result"
    }
   ],
   "source": [
    "question = \"Can you give me the price of a Pinot Noir\"\n",
    "result = qa_chainH({\"query\": question})\n",
    "result[\"result\"] "
   ]
  },
  {
   "cell_type": "code",
   "execution_count": null,
   "metadata": {},
   "outputs": [],
   "source": [
    " "
   ]
  },
  {
   "cell_type": "markdown",
   "metadata": {},
   "source": [
    "# ChatBot"
   ]
  },
  {
   "cell_type": "code",
   "execution_count": null,
   "metadata": {},
   "outputs": [],
   "source": []
  },
  {
   "cell_type": "code",
   "execution_count": null,
   "metadata": {},
   "outputs": [],
   "source": []
  },
  {
   "cell_type": "markdown",
   "metadata": {},
   "source": []
  }
 ],
 "metadata": {
  "kernelspec": {
   "display_name": "Python 3 (ipykernel)",
   "language": "python",
   "name": "python3"
  }
 },
 "nbformat": 4,
 "nbformat_minor": 2
}
